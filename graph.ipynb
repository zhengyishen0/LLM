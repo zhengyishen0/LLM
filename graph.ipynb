{
 "cells": [
  {
   "cell_type": "code",
   "execution_count": null,
   "metadata": {},
   "outputs": [],
   "source": [
    "from langchain.agents import tool\n",
    "from langchain_community.tools.tavily_search import TavilySearchResults\n",
    "\n",
    "@tool\n",
    "def get_word_length(word: str) -> int:\n",
    "    \"\"\"Returns the length of a word.\"\"\"\n",
    "    return len(word)\n",
    "\n",
    "# get_word_length.invoke(\"abc\")\n",
    "\n",
    "tools = [TavilySearchResults(max_results=1)]"
   ]
  },
  {
   "cell_type": "code",
   "execution_count": null,
   "metadata": {},
   "outputs": [],
   "source": [
    "from modules.openai_agent import create_agent\n",
    "from modules.create_graph import create_graph, stream_app\n",
    "from modules.langraph_nodes import should_continue, call_model, call_tool, call_agent\n",
    "from functools import partial\n",
    "\n",
    "model = create_agent(tools=tools, model_only=True, streaming=True)\n",
    "\n",
    "nodes = [{\"name\": \"agent\", \"node\": partial(call_model, model)}, \n",
    "         {\"name\": \"action\", \"node\": partial(call_tool, tools), \"condition\": should_continue}]\n",
    "\n",
    "app = create_graph(nodes)"
   ]
  },
  {
   "cell_type": "code",
   "execution_count": null,
   "metadata": {},
   "outputs": [],
   "source": [
    "user_input = \"what is the weather in sf\"\n",
    "stream_app(app, user_input)"
   ]
  }
 ],
 "metadata": {
  "kernelspec": {
   "display_name": "llm",
   "language": "python",
   "name": "python3"
  },
  "language_info": {
   "codemirror_mode": {
    "name": "ipython",
    "version": 3
   },
   "file_extension": ".py",
   "mimetype": "text/x-python",
   "name": "python",
   "nbconvert_exporter": "python",
   "pygments_lexer": "ipython3",
   "version": "3.10.13"
  }
 },
 "nbformat": 4,
 "nbformat_minor": 2
}
