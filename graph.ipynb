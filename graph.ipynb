{
 "cells": [
  {
   "cell_type": "code",
   "execution_count": 1,
   "metadata": {},
   "outputs": [],
   "source": [
    "from langchain.agents import tool\n",
    "from langchain_community.tools.tavily_search import TavilySearchResults\n",
    "\n",
    "@tool\n",
    "def get_word_length(word: str) -> int:\n",
    "    \"\"\"Returns the length of a word.\"\"\"\n",
    "    return len(word)\n",
    "\n",
    "# get_word_length.invoke(\"abc\")\n",
    "\n",
    "tools = [TavilySearchResults(max_results=1)]"
   ]
  },
  {
   "cell_type": "code",
   "execution_count": 2,
   "metadata": {},
   "outputs": [],
   "source": [
    "from modules.openai_agent import create_agent\n",
    "from modules.langgraph_graph import create_graph, stream_app\n",
    "from modules.langgraph_nodes import should_continue, call_model, call_tools, call_agent\n",
    "\n",
    "model = create_agent(tools=tools, model_only=True, streaming=True)\n",
    "\n",
    "nodes = [{\"name\": \"agent\", \"node\": call_model(model)}, \n",
    "         {\"name\": \"action\", \"node\": call_tools(tools), \"condition\": should_continue}]\n",
    "\n",
    "app = create_graph(nodes)"
   ]
  },
  {
   "cell_type": "code",
   "execution_count": 3,
   "metadata": {},
   "outputs": [
    {
     "name": "stdout",
     "output_type": "stream",
     "text": [
      "Output from node 'agent':\n",
      "---\n",
      "{'messages': [AIMessage(content='', additional_kwargs={'tool_calls': [{'id': 'call_Ugsdqt3DsjvhugJJm0uCzYiM', 'function': {'arguments': '{\"query\":\"weather in San Francisco\"}', 'name': 'tavily_search_results_json'}, 'type': 'function'}]})]}\n",
      "\n",
      "---\n",
      "\n",
      "Output from node 'action':\n",
      "---\n",
      "{'messages': [ToolMessage(content=\"[{'url': 'https://www.accuweather.com/en/us/san-francisco/94103/current-weather/347629', 'content': 'Get the latest weather conditions and outlook for San Francisco, CA, including temperature, humidity, wind, pressure, and cloud cover. See alerts, sunrise and sunset times, and historical data for the city.'}]\", tool_call_id='call_Ugsdqt3DsjvhugJJm0uCzYiM')]}\n",
      "\n",
      "---\n",
      "\n",
      "Output from node 'agent':\n",
      "---\n",
      "{'messages': [AIMessage(content='The latest weather conditions and outlook for San Francisco, CA can be found on AccuWeather. You can visit the following link for more details: [San Francisco Weather](https://www.accuweather.com/en/us/san-francisco/94103/current-weather/347629)')]}\n",
      "\n",
      "---\n",
      "\n",
      "Output from node '__end__':\n",
      "---\n",
      "{'messages': [HumanMessage(content='what is the weather in sf'), AIMessage(content='', additional_kwargs={'tool_calls': [{'id': 'call_Ugsdqt3DsjvhugJJm0uCzYiM', 'function': {'arguments': '{\"query\":\"weather in San Francisco\"}', 'name': 'tavily_search_results_json'}, 'type': 'function'}]}), ToolMessage(content=\"[{'url': 'https://www.accuweather.com/en/us/san-francisco/94103/current-weather/347629', 'content': 'Get the latest weather conditions and outlook for San Francisco, CA, including temperature, humidity, wind, pressure, and cloud cover. See alerts, sunrise and sunset times, and historical data for the city.'}]\", tool_call_id='call_Ugsdqt3DsjvhugJJm0uCzYiM'), AIMessage(content='The latest weather conditions and outlook for San Francisco, CA can be found on AccuWeather. You can visit the following link for more details: [San Francisco Weather](https://www.accuweather.com/en/us/san-francisco/94103/current-weather/347629)')]}\n",
      "\n",
      "---\n",
      "\n"
     ]
    }
   ],
   "source": [
    "user_input = \"what is the weather in sf\"\n",
    "stream_app(app, user_input)"
   ]
  }
 ],
 "metadata": {
  "kernelspec": {
   "display_name": "llm",
   "language": "python",
   "name": "python3"
  },
  "language_info": {
   "codemirror_mode": {
    "name": "ipython",
    "version": 3
   },
   "file_extension": ".py",
   "mimetype": "text/x-python",
   "name": "python",
   "nbconvert_exporter": "python",
   "pygments_lexer": "ipython3",
   "version": "3.10.13"
  }
 },
 "nbformat": 4,
 "nbformat_minor": 2
}
