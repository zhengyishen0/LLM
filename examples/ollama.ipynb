{
 "cells": [
  {
   "cell_type": "markdown",
   "metadata": {},
   "source": [
    "# Run Ollama in Colab and use in local machine\n",
    "\n",
    "Copy the code below to your Colab notebook.\n",
    "\n",
    "> Running Colab in ssh is against the terms of service and risks getting your account kicked out. Please be careful and use it at your own risk."
   ]
  },
  {
   "cell_type": "code",
   "execution_count": null,
   "metadata": {},
   "outputs": [],
   "source": [
    "# Download and run the Ollama Linux install script\n",
    "!curl https://ollama.ai/install.sh | sh\n",
    "!command -v systemctl >/dev/null && sudo systemctl stop ollama\n",
    "\n",
    "# Start Serve that runs Ollama\n",
    "!pip install aiohttp pyngrok\n",
    "!ngrok authtoken \"your_ngrok_token\"  # create an account at https://ngrok.com\n",
    "\n",
    "import os\n",
    "import asyncio\n",
    "from aiohttp import ClientSession\n",
    "\n",
    "# Set LD_LIBRARY_PATH so the system NVIDIA library becomes preferred\n",
    "# over the built-in library. This is particularly important for\n",
    "# Google Colab which installs older drivers\n",
    "os.environ.update({'LD_LIBRARY_PATH': '/usr/lib64-nvidia'})\n",
    "\n",
    "async def run(cmd):\n",
    "  '''\n",
    "  run is a helper function to run subcommands asynchronously.\n",
    "  '''\n",
    "  print('>>> starting', *cmd)\n",
    "  p = await asyncio.subprocess.create_subprocess_exec(\n",
    "      *cmd,\n",
    "      stdout=asyncio.subprocess.PIPE,\n",
    "      stderr=asyncio.subprocess.PIPE,\n",
    "  )\n",
    "\n",
    "  async def pipe(lines):\n",
    "    async for line in lines:\n",
    "      print(line.strip().decode('utf-8'))\n",
    "\n",
    "  await asyncio.gather(\n",
    "      pipe(p.stdout),\n",
    "      pipe(p.stderr),\n",
    "  )\n",
    "\n",
    "\n",
    "await asyncio.gather(\n",
    "    run(['ollama', 'serve']),\n",
    "    run(['ngrok', 'http', '--log', 'stderr', '11434']),\n",
    ")"
   ]
  },
  {
   "cell_type": "markdown",
   "metadata": {},
   "source": [
    "# Cheatsheet\n",
    "Run the following command in your terminal.\n",
    "\n",
    "```zsh\n",
    "echo 'function collama() {\n",
    "  export OLLAMA_HOST=\"$@\"\n",
    "}' >> ~/.zshrc\n",
    "\n",
    "source ~/.zshrc\n",
    "```\n",
    "\n",
    "Then you can use this serve like a local ollama.\n",
    "```zsh\n",
    "collama \"your_endpoint_url.ngrok-free.app\"\n",
    "ollama run llama2\n",
    "```\n"
   ]
  }
 ],
 "metadata": {
  "language_info": {
   "name": "python"
  }
 },
 "nbformat": 4,
 "nbformat_minor": 2
}
